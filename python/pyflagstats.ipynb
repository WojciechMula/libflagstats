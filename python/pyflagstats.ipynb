{
  "nbformat": 4,
  "nbformat_minor": 0,
  "metadata": {
    "colab": {
      "name": "pyflagstats",
      "provenance": [],
      "collapsed_sections": [],
      "include_colab_link": true
    },
    "kernelspec": {
      "name": "python3",
      "display_name": "Python 3"
    }
  },
  "cells": [
    {
      "cell_type": "markdown",
      "metadata": {
        "id": "view-in-github",
        "colab_type": "text"
      },
      "source": [
        "<a href=\"https://colab.research.google.com/github/mklarqvist/libflagstats/blob/master/python/pyflagstats.ipynb\" target=\"_parent\"><img src=\"https://colab.research.google.com/assets/colab-badge.svg\" alt=\"Open In Colab\"/></a>"
      ]
    },
    {
      "cell_type": "markdown",
      "metadata": {
        "id": "nPFedduSZwyA",
        "colab_type": "text"
      },
      "source": [
        "# Computing SAM flagstat statistics efficiently using SIMD instructions\n",
        "Repo available here: https://github.com/mklarqvist/libflagstats/"
      ]
    },
    {
      "cell_type": "markdown",
      "metadata": {
        "id": "_v6ZJvwsZaG0",
        "colab_type": "text"
      },
      "source": [
        "Install pyflagstats using pip"
      ]
    },
    {
      "cell_type": "code",
      "metadata": {
        "id": "ahgeUglEWpSY",
        "colab_type": "code",
        "outputId": "e0af48a6-6574-4182-91a1-b1ef18bedadc",
        "colab": {
          "base_uri": "https://localhost:8080/",
          "height": 71
        }
      },
      "source": [
        "pip install pyflagstats==0.1.4"
      ],
      "execution_count": 1,
      "outputs": [
        {
          "output_type": "stream",
          "text": [
            "Requirement already satisfied: pyflagstats==0.1.4 in /usr/local/lib/python3.6/dist-packages (0.1.4)\n",
            "Requirement already satisfied: cython in /usr/local/lib/python3.6/dist-packages (from pyflagstats==0.1.4) (0.29.13)\n",
            "Requirement already satisfied: numpy in /usr/local/lib/python3.6/dist-packages (from pyflagstats==0.1.4) (1.17.3)\n"
          ],
          "name": "stdout"
        }
      ]
    },
    {
      "cell_type": "markdown",
      "metadata": {
        "id": "p66XDQBLZg4h",
        "colab_type": "text"
      },
      "source": [
        "Load numpy and pyflagstats"
      ]
    },
    {
      "cell_type": "code",
      "metadata": {
        "id": "jStJ7Vs2Wwsn",
        "colab_type": "code",
        "colab": {}
      },
      "source": [
        "import numpy as np\n",
        "import pyflagstats as fs"
      ],
      "execution_count": 0,
      "outputs": []
    },
    {
      "cell_type": "markdown",
      "metadata": {
        "id": "oCw8jzaEZq_6",
        "colab_type": "text"
      },
      "source": [
        "Compute summary statistics from random numbers: keep running to see different outputs.\n",
        "\n"
      ]
    },
    {
      "cell_type": "code",
      "metadata": {
        "id": "aXo1bAx0W1i8",
        "colab_type": "code",
        "outputId": "1e8ba4b6-8bd5-4a38-c65a-8d94c7bee1f2",
        "colab": {
          "base_uri": "https://localhost:8080/",
          "height": 611
        }
      },
      "source": [
        "# Compute summary statistics for 100 million random FLAG fields.\n",
        "# Completes in around 1 second.\n",
        "fs.flagstats(np.random.randint(0,8192,100000000,dtype=\"uint16\"))"
      ],
      "execution_count": 3,
      "outputs": [
        {
          "output_type": "execute_result",
          "data": {
            "text/plain": [
              "{'failed': {'FDUP': 24995962,\n",
              "  'FMREVERSE': 3123377,\n",
              "  'FMUNMAP': 3125223,\n",
              "  'FPAIRED': 6250886,\n",
              "  'FPROPER_PAIR': 3124859,\n",
              "  'FQCFAIL': 49989041,\n",
              "  'FREAD1': 3126192,\n",
              "  'FREAD2': 3126262,\n",
              "  'FREVERSE': 3125834,\n",
              "  'FSECONDARY': 24991216,\n",
              "  'FSUPPLEMENTARY': 12496948,\n",
              "  'FUNMAP': 24995562,\n",
              "  'n_pair_good': 3907929,\n",
              "  'n_pair_map': 1562516,\n",
              "  'n_sgltn': 1564371},\n",
              " 'n_values': 100000000,\n",
              " 'passed': {'FDUP': 25007564,\n",
              "  'FMREVERSE': 3126762,\n",
              "  'FMUNMAP': 3126996,\n",
              "  'FPAIRED': 6251520,\n",
              "  'FPROPER_PAIR': 3127436,\n",
              "  'FQCFAIL': 50010959,\n",
              "  'FREAD1': 3125282,\n",
              "  'FREAD2': 3122861,\n",
              "  'FREVERSE': 3126020,\n",
              "  'FSECONDARY': 25012640,\n",
              "  'FSUPPLEMENTARY': 12500692,\n",
              "  'FUNMAP': 25000730,\n",
              "  'mapped': 50003708,\n",
              "  'n_pair_good': 3908246,\n",
              "  'n_pair_map': 1561439,\n",
              "  'n_sgltn': 1563448,\n",
              "  'paired_in_seq': 6248143}}"
            ]
          },
          "metadata": {
            "tags": []
          },
          "execution_count": 3
        }
      ]
    }
  ]
}