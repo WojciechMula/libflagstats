{
  "nbformat": 4,
  "nbformat_minor": 0,
  "metadata": {
    "colab": {
      "name": "pyflagstats",
      "provenance": [],
      "collapsed_sections": [],
      "include_colab_link": true
    },
    "kernelspec": {
      "name": "python3",
      "display_name": "Python 3"
    }
  },
  "cells": [
    {
      "cell_type": "markdown",
      "metadata": {
        "id": "view-in-github",
        "colab_type": "text"
      },
      "source": [
        "<a href=\"https://colab.research.google.com/github/mklarqvist/libflagstats/blob/avx512/python/pyflagstats.ipynb\" target=\"_parent\"><img src=\"https://colab.research.google.com/assets/colab-badge.svg\" alt=\"Open In Colab\"/></a>"
      ]
    },
    {
      "cell_type": "markdown",
      "metadata": {
        "id": "nPFedduSZwyA",
        "colab_type": "text"
      },
      "source": [
        "# Computing SAM flagstat statistics efficiently using SIMD instructions\n",
        "Repo available here: https://github.com/mklarqvist/libflagstats/"
      ]
    },
    {
      "cell_type": "markdown",
      "metadata": {
        "id": "_v6ZJvwsZaG0",
        "colab_type": "text"
      },
      "source": [
        "Install pyflagstats using pip"
      ]
    },
    {
      "cell_type": "code",
      "metadata": {
        "id": "ahgeUglEWpSY",
        "colab_type": "code",
        "outputId": "908c691e-7779-428f-98c1-3345914cddb4",
        "colab": {
          "base_uri": "https://localhost:8080/",
          "height": 71
        }
      },
      "source": [
        "pip install pyflagstats==0.1.3"
      ],
      "execution_count": 6,
      "outputs": [
        {
          "output_type": "stream",
          "text": [
            "Requirement already satisfied: pyflagstats==0.1.3 in /usr/local/lib/python3.6/dist-packages (0.1.3)\n",
            "Requirement already satisfied: cython in /usr/local/lib/python3.6/dist-packages (from pyflagstats==0.1.3) (0.29.13)\n",
            "Requirement already satisfied: numpy in /usr/local/lib/python3.6/dist-packages (from pyflagstats==0.1.3) (1.17.3)\n"
          ],
          "name": "stdout"
        }
      ]
    },
    {
      "cell_type": "markdown",
      "metadata": {
        "id": "p66XDQBLZg4h",
        "colab_type": "text"
      },
      "source": [
        "Load numpy and pyflagstats"
      ]
    },
    {
      "cell_type": "code",
      "metadata": {
        "id": "jStJ7Vs2Wwsn",
        "colab_type": "code",
        "colab": {}
      },
      "source": [
        "import numpy as np\n",
        "import pyflagstats as fs"
      ],
      "execution_count": 0,
      "outputs": []
    },
    {
      "cell_type": "markdown",
      "metadata": {
        "id": "oCw8jzaEZq_6",
        "colab_type": "text"
      },
      "source": [
        "Compute summary statistics from random numbers: keep running to see different outputs.\n",
        "\n"
      ]
    },
    {
      "cell_type": "code",
      "metadata": {
        "id": "aXo1bAx0W1i8",
        "colab_type": "code",
        "outputId": "f8224ebe-4d46-46a8-f3a2-4bd40776b35f",
        "colab": {
          "base_uri": "https://localhost:8080/",
          "height": 611
        }
      },
      "source": [
        "# Compute summary statistics for 100 million random FLAG fields.\n",
        "# Completes in around 1 second.\n",
        "fs.flagstats(np.random.randint(0,8192,100000000,dtype=\"uint16\"))"
      ],
      "execution_count": 9,
      "outputs": [
        {
          "output_type": "execute_result",
          "data": {
            "text/plain": [
              "{'failed': {'FDUP': 24998633,\n",
              "  'FMREVERSE': 3122611,\n",
              "  'FMUNMAP': 3123739,\n",
              "  'FPAIRED': 6247295,\n",
              "  'FPROPER_PAIR': 3124554,\n",
              "  'FQCFAIL': 49998218,\n",
              "  'FREAD1': 3122721,\n",
              "  'FREAD2': 3123873,\n",
              "  'FREVERSE': 3121981,\n",
              "  'FSECONDARY': 25002340,\n",
              "  'FSUPPLEMENTARY': 12499996,\n",
              "  'FUNMAP': 24996119,\n",
              "  'n_pair_good': 3905300,\n",
              "  'n_pair_map': 1562070,\n",
              "  'n_sgltn': 1562859},\n",
              " 'n_values': 100000000,\n",
              " 'passed': {'FDUP': 25000234,\n",
              "  'FMREVERSE': 3123379,\n",
              "  'FMUNMAP': 3123273,\n",
              "  'FPAIRED': 6247894,\n",
              "  'FPROPER_PAIR': 3124219,\n",
              "  'FQCFAIL': 50001782,\n",
              "  'FREAD1': 3122504,\n",
              "  'FREAD2': 3124524,\n",
              "  'FREVERSE': 3124586,\n",
              "  'FSECONDARY': 25004306,\n",
              "  'FSUPPLEMENTARY': 12499054,\n",
              "  'FUNMAP': 24996640,\n",
              "  'mapped': 50007241,\n",
              "  'n_pair_good': 3903813,\n",
              "  'n_pair_map': 1561911,\n",
              "  'n_sgltn': 1564357,\n",
              "  'paired_in_seq': 6247028}}"
            ]
          },
          "metadata": {
            "tags": []
          },
          "execution_count": 9
        }
      ]
    }
  ]
}